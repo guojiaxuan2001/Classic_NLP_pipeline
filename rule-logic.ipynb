{
 "cells": [
  {
   "cell_type": "code",
   "id": "initial_id",
   "metadata": {
    "collapsed": true,
    "ExecuteTime": {
     "end_time": "2025-07-27T05:58:21.721828Z",
     "start_time": "2025-07-27T05:58:21.717380Z"
    }
   },
   "source": [
    "novaxanib_protocol = {\n",
    "    \"inclusion\": {\n",
    "        \"diagnosis\": \"Stage IV non-small cell lung cancer\",\n",
    "        \"mutation\": \"EGFR exon 19 deletion\",\n",
    "        \"min_prior_therapies\": 2\n",
    "    },\n",
    "    \"exclusion\": {\n",
    "        \"max_age\": 75,\n",
    "        \"min_gfr\": 30,\n",
    "        \"absolute_contraindications\": [\n",
    "            \"history_of_ild\"\n",
    "        ]\n",
    "    }\n",
    "}\n",
    "\n",
    "print(\"linical trial protocol has been encoded into a machine-readable structure.\")\n",
    "print(novaxanib_protocol)"
   ],
   "outputs": [
    {
     "name": "stdout",
     "output_type": "stream",
     "text": [
      "linical trial protocol has been encoded into a machine-readable structure.\n",
      "{'inclusion': {'diagnosis': 'Stage IV non-small cell lung cancer', 'mutation': 'EGFR exon 19 deletion', 'min_prior_therapies': 2}, 'exclusion': {'max_age': 75, 'min_gfr': 30, 'absolute_contraindications': ['history_of_ild']}}\n"
     ]
    }
   ],
   "execution_count": 4
  },
  {
   "metadata": {
    "ExecuteTime": {
     "end_time": "2025-07-27T05:58:50.637934Z",
     "start_time": "2025-07-27T05:58:50.633920Z"
    }
   },
   "cell_type": "code",
   "source": [
    "raw_medical_note = \"Patient has a history of mild drug-induced pneumonitis, now resolved.\"\n",
    "\n",
    "processed_conditions = [\"history_of_ild\"]\n",
    "\n",
    "mr_smith_profile = {\n",
    "    \"name\": \"Mr. Smith\",\n",
    "    \"age\": 68,\n",
    "    \"diagnosis\": \"Stage IV non-small cell lung cancer\",\n",
    "    \"mutation\": \"EGFR exon 19 deletion\",\n",
    "    \"prior_therapy_lines\": 3,\n",
    "    \"gfr\": 80,\n",
    "    \"conditions_history\": processed_conditions,\n",
    "    \"physician_note\": \"Believes benefit outweighs risk.\"\n",
    "}\n",
    "\n",
    "print(\"Mr. Smith's profile has been structured from his records.\")\n",
    "print(mr_smith_profile)"
   ],
   "id": "3edd7718b0db0f07",
   "outputs": [
    {
     "name": "stdout",
     "output_type": "stream",
     "text": [
      "Mr. Smith's profile has been structured from his records.\n",
      "{'name': 'Mr. Smith', 'age': 68, 'diagnosis': 'Stage IV non-small cell lung cancer', 'mutation': 'EGFR exon 19 deletion', 'prior_therapy_lines': 3, 'gfr': 80, 'conditions_history': ['history_of_ild'], 'physician_note': 'Believes benefit outweighs risk.'}\n"
     ]
    }
   ],
   "execution_count": 5
  },
  {
   "metadata": {
    "ExecuteTime": {
     "end_time": "2025-07-27T06:00:06.780621Z",
     "start_time": "2025-07-27T06:00:06.773887Z"
    }
   },
   "cell_type": "code",
   "source": [
    "def check_eligibility(protocol, patient):\n",
    "    \"\"\"A deterministic function to check patient eligibility based on the protocol.\"\"\"\n",
    "\n",
    "    #Check Inclusion Criteria\n",
    "    incl = protocol['inclusion']\n",
    "    if not (patient['diagnosis'] == incl['diagnosis'] and \\\n",
    "            patient['mutation'] == incl['mutation'] and \\\n",
    "            patient['prior_therapy_lines'] >= incl['min_prior_therapies']):\n",
    "        print(\"INELIGIBLE: Failed to meet all inclusion criteria.\")\n",
    "        return False\n",
    "\n",
    "    #Check Exclusion Criteria\n",
    "    excl = protocol['exclusion']\n",
    "    if patient['age'] > excl['max_age']:\n",
    "        print(f\"INELIGIBLE: Exceeded max age of {excl['max_age']}.\")\n",
    "        return False\n",
    "    if patient['gfr'] < excl['min_gfr']:\n",
    "        print(f\"INELIGIBLE: GFR is below minimum of {excl['min_gfr']}.\")\n",
    "        return False\n",
    "\n",
    "    #The crucial check against absolute contraindications\n",
    "    for condition in patient['conditions_history']:\n",
    "        if condition in excl['absolute_contraindications']:\n",
    "            print(f\"INELIGIBLE: Patient has a prohibited condition in their history: '{condition}'.\")\n",
    "            return False\n",
    "\n",
    "    #If all checks passed\n",
    "    print(\"ELIGIBLE: Patient meets all criteria.\")\n",
    "    return True\n",
    "\n",
    "print(\"--- Running Eligibility Audit for Mr. Smith ---\")\n",
    "is_eligible = check_eligibility(novaxanib_protocol, mr_smith_profile)"
   ],
   "id": "4abe01585de221bb",
   "outputs": [
    {
     "name": "stdout",
     "output_type": "stream",
     "text": [
      "--- Running Eligibility Audit for Mr. Smith ---\n",
      "INELIGIBLE: Patient has a prohibited condition in their history: 'history_of_ild'.\n"
     ]
    }
   ],
   "execution_count": 6
  }
 ],
 "metadata": {
  "kernelspec": {
   "display_name": "Python 3",
   "language": "python",
   "name": "python3"
  },
  "language_info": {
   "codemirror_mode": {
    "name": "ipython",
    "version": 2
   },
   "file_extension": ".py",
   "mimetype": "text/x-python",
   "name": "python",
   "nbconvert_exporter": "python",
   "pygments_lexer": "ipython2",
   "version": "2.7.6"
  }
 },
 "nbformat": 4,
 "nbformat_minor": 5
}
